{
  "cells": [
    {
      "cell_type": "markdown",
      "metadata": {
        "id": "view-in-github",
        "colab_type": "text"
      },
      "source": [
        "<a href=\"https://colab.research.google.com/github/newfrogg/data_engineering/blob/dev/data_engineering.ipynb\" target=\"_parent\"><img src=\"https://colab.research.google.com/assets/colab-badge.svg\" alt=\"Open In Colab\"/></a>"
      ]
    },
    {
      "cell_type": "markdown",
      "source": [
        "# Topic name"
      ],
      "metadata": {
        "id": "Cf76ae0IeEcl"
      }
    },
    {
      "cell_type": "markdown",
      "source": [
        "## Question 1\n",
        "answer1\n",
        "answer2\n",
        "ans3\n"
      ],
      "metadata": {
        "id": "2xn5RpTpae9U"
      }
    },
    {
      "cell_type": "markdown",
      "source": [
        "## Question 2\n",
        "answer1\n",
        "answer2\n",
        "ans3\n"
      ],
      "metadata": {
        "id": "RBSCyNIkeHxL"
      }
    }
  ],
  "metadata": {
    "colab": {
      "name": "Welcome To Colab",
      "provenance": [],
      "include_colab_link": true
    },
    "kernelspec": {
      "display_name": "Python 3",
      "name": "python3"
    }
  },
  "nbformat": 4,
  "nbformat_minor": 0
}