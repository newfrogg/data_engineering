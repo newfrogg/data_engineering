{
  "cells": [
    {
      "cell_type": "markdown",
      "metadata": {
        "id": "view-in-github",
        "colab_type": "text"
      },
      "source": [
        "<a href=\"https://colab.research.google.com/github/newfrogg/data_engineering/blob/what_is_ELT/data_engineering.ipynb\" target=\"_parent\"><img src=\"https://colab.research.google.com/assets/colab-badge.svg\" alt=\"Open In Colab\"/></a>"
      ]
    },
    {
      "cell_type": "markdown",
      "source": [
        "# What is ELT ?"
      ],
      "metadata": {
        "id": "Cf76ae0IeEcl"
      }
    },
    {
      "cell_type": "markdown",
      "source": [
        "## Data Engineering for short\n",
        "It's about the practice of designing and building systems with purposes:\n",
        "1. collecting,\n",
        "2. storing,\n",
        "3. analyzing data at scale.\n",
        "4. To ensure the highly usable state before being pushed to data scientists, data analysts.\n",
        "\n",
        "[Coursera-What is Data Engineering](https://www.coursera.org/articles/what-does-a-data-engineer-do-and-how-do-i-become-one)\n"
      ],
      "metadata": {
        "id": "2xn5RpTpae9U"
      }
    },
    {
      "cell_type": "markdown",
      "source": [
        "## What is ETL ?\n",
        "ETL is about a *data integration process* including:\n",
        "1. **Extract** data from legacy system\n",
        "2. **Transform** and/or clean data to enhance data quality, improve consitency\n",
        "3. **Load** data into target databases\n",
        "\n",
        "[IBM_ETL](https://www.ibm.com/think/topics/etl)\n",
        "\n"
      ],
      "metadata": {
        "id": "RBSCyNIkeHxL"
      }
    }
  ],
  "metadata": {
    "colab": {
      "name": "Welcome To Colab",
      "provenance": [],
      "include_colab_link": true
    },
    "kernelspec": {
      "display_name": "Python 3",
      "name": "python3"
    }
  },
  "nbformat": 4,
  "nbformat_minor": 0
}